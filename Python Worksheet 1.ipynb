{
 "cells": [
  {
   "cell_type": "markdown",
   "id": "b4c84d43",
   "metadata": {},
   "source": [
    "#### 1. Which of the following operators is used to calculate remainder in a division?"
   ]
  },
  {
   "cell_type": "markdown",
   "id": "743e8d74",
   "metadata": {},
   "source": [
    "#### Answer : C) %"
   ]
  },
  {
   "cell_type": "markdown",
   "id": "964f1c15",
   "metadata": {},
   "source": [
    "#### 2. In python 2//3 is equal to?"
   ]
  },
  {
   "cell_type": "markdown",
   "id": "613b9298",
   "metadata": {},
   "source": [
    "#### Answer : B) 0"
   ]
  },
  {
   "cell_type": "markdown",
   "id": "70ba64aa",
   "metadata": {},
   "source": [
    "#### 3. In python, 6<<2 is equal to?"
   ]
  },
  {
   "cell_type": "markdown",
   "id": "4a52cbdb",
   "metadata": {},
   "source": [
    "#### Answer : C) 24 "
   ]
  },
  {
   "cell_type": "markdown",
   "id": "f7658dfe",
   "metadata": {},
   "source": [
    "#### 4. In python, 6&2 will give which of the following as output?"
   ]
  },
  {
   "cell_type": "markdown",
   "id": "563ed60f",
   "metadata": {},
   "source": [
    "#### Answer : A) 2"
   ]
  },
  {
   "cell_type": "markdown",
   "id": "6d9069d3",
   "metadata": {},
   "source": [
    "####  5. In python, 6|2 will give which of the following as output?"
   ]
  },
  {
   "cell_type": "markdown",
   "id": "5b0592a4",
   "metadata": {},
   "source": [
    "#### Answer : D) 6 "
   ]
  },
  {
   "cell_type": "markdown",
   "id": "51dfd62d",
   "metadata": {},
   "source": [
    "#### 6. What does the finally keyword denotes in python?"
   ]
  },
  {
   "cell_type": "markdown",
   "id": "3851006f",
   "metadata": {},
   "source": [
    "#### Answer : C) the finally block will be executed no matter if the try block raises an error or not."
   ]
  },
  {
   "cell_type": "markdown",
   "id": "825defee",
   "metadata": {},
   "source": [
    "#### 7. What does raise keyword is used for in python?"
   ]
  },
  {
   "cell_type": "markdown",
   "id": "be29f699",
   "metadata": {},
   "source": [
    "#### Answer : A) It is used to raise an exception."
   ]
  },
  {
   "cell_type": "markdown",
   "id": "90f3e47d",
   "metadata": {},
   "source": [
    "#### 8. Which of the following is a common use case of yield keyword in python?"
   ]
  },
  {
   "cell_type": "markdown",
   "id": "7173983b",
   "metadata": {},
   "source": [
    "#### Answer : C) in defining a generator"
   ]
  },
  {
   "cell_type": "markdown",
   "id": "de33cc9a",
   "metadata": {},
   "source": [
    "#### 9. Which of the following are the valid variable names?"
   ]
  },
  {
   "cell_type": "markdown",
   "id": "8befac3f",
   "metadata": {},
   "source": [
    "#### Answer : A) _abc    ,  C) abc2"
   ]
  },
  {
   "cell_type": "markdown",
   "id": "ea8879db",
   "metadata": {},
   "source": [
    "#### 10. Which of the following are the keywords in python?"
   ]
  },
  {
   "cell_type": "markdown",
   "id": "726f00e6",
   "metadata": {},
   "source": [
    "#### Answer : A) yield , B) raise"
   ]
  },
  {
   "cell_type": "markdown",
   "id": "f42a4a2d",
   "metadata": {},
   "source": [
    "#### 11. Write a python program to find the factorial of a number."
   ]
  },
  {
   "cell_type": "code",
   "execution_count": 2,
   "id": "36831abd",
   "metadata": {},
   "outputs": [
    {
     "name": "stdout",
     "output_type": "stream",
     "text": [
      "Factorial of 5 is 120\n"
     ]
    }
   ],
   "source": [
    "# Answer 11 -\n",
    "\n",
    "def factorial(n):\n",
    "     \n",
    "    # single line to find factorial\n",
    "    return 1 if (n==1 or n==0) else n * factorial(n - 1);\n",
    " \n",
    "# Driver Code\n",
    "num = 5;\n",
    "print(\"Factorial of\",num,\"is\",factorial(num))"
   ]
  },
  {
   "cell_type": "markdown",
   "id": "943b313c",
   "metadata": {},
   "source": [
    "#### 12. Write a python program to find whether a number is prime or composite?"
   ]
  },
  {
   "cell_type": "code",
   "execution_count": 3,
   "id": "9e73be4a",
   "metadata": {},
   "outputs": [
    {
     "name": "stdout",
     "output_type": "stream",
     "text": [
      "Enter any number : 11\n",
      "11 is a PRIME number\n"
     ]
    }
   ],
   "source": [
    "# Answer 12 -\n",
    "\n",
    "num = int(input(\"Enter any number : \"))\n",
    "if num > 1:\n",
    "    for i in range(2, num):\n",
    "        if (num % i) == 0:\n",
    "            print(num, \"is NOT a prime number\")\n",
    "            break\n",
    "    else:\n",
    "        print(num, \"is a PRIME number\")\n",
    "elif num == 0 or 1:\n",
    "    print(num, \"is a neither prime NOR composite number\")\n",
    "else:\n",
    "    print(num, \" is NOT a prime number it is a COMPOSITE number\")\n",
    "    \n",
    "    \n"
   ]
  },
  {
   "cell_type": "markdown",
   "id": "d28db1d1",
   "metadata": {},
   "source": [
    "#### 13. Write a python program to check whether a given string is palindrome or not."
   ]
  },
  {
   "cell_type": "code",
   "execution_count": 4,
   "id": "b0f6527f",
   "metadata": {},
   "outputs": [
    {
     "name": "stdout",
     "output_type": "stream",
     "text": [
      "Yes\n"
     ]
    }
   ],
   "source": [
    "# Answer 13 -\n",
    "\n",
    "# function which return reverse of a string\n",
    " \n",
    "def isPalindrome(s):\n",
    "    return s == s[::-1]\n",
    " \n",
    " \n",
    "# Driver code\n",
    "s = \"civic\"\n",
    "ans = isPalindrome(s)\n",
    " \n",
    "if ans:\n",
    "    print(\"Yes\")\n",
    "else:\n",
    "    print(\"No\")"
   ]
  },
  {
   "cell_type": "markdown",
   "id": "e499448b",
   "metadata": {},
   "source": [
    "#### 14. Write a Python program to get the third side of right-angled triangle from two given sides."
   ]
  },
  {
   "cell_type": "code",
   "execution_count": 5,
   "id": "028817a4",
   "metadata": {},
   "outputs": [
    {
     "name": "stdout",
     "output_type": "stream",
     "text": [
      "Hypotenuse = 5.0\n",
      "Adjacent = 4.0\n",
      "Opposite = 3.0\n",
      "Done\n"
     ]
    }
   ],
   "source": [
    "# Answer 14 -\n",
    "\n",
    "def pythagoras (opposite_side,adjacent_side,hypotenuse):\n",
    "        if opposite_side == str(\"x\"):\n",
    "            return (\"Opposite = \" + str(((hypotenuse**2) - (adjacent_side**2))**0.5))\n",
    "        elif adjacent_side == str(\"x\"):\n",
    "            return (\"Adjacent = \" + str(((hypotenuse**2) - (opposite_side**2))**0.5))\n",
    "        elif hypotenuse == str(\"x\"):\n",
    "            return (\"Hypotenuse = \" + str(((opposite_side**2) + (adjacent_side**2))**0.5))\n",
    "        else:\n",
    "            return \"Done\"\n",
    "    \n",
    "print(pythagoras(3,4,'x'))\n",
    "print(pythagoras(3,'x',5))\n",
    "print(pythagoras('x',4,5))\n",
    "print(pythagoras(3,4,5))\n"
   ]
  },
  {
   "cell_type": "markdown",
   "id": "bc654066",
   "metadata": {},
   "source": [
    "#### 15. Write a python program to print the frequency of each of the characters present in a given string."
   ]
  },
  {
   "cell_type": "code",
   "execution_count": 6,
   "id": "98cd5a82",
   "metadata": {},
   "outputs": [
    {
     "name": "stdout",
     "output_type": "stream",
     "text": [
      "Count of all characters in Google is : \n",
      "{'J': 1, 'u': 1, 'p': 1, 'y': 1, 't': 2, 'e': 2, 'r': 1, 'N': 1, 'o': 3, 'b': 1, 'k': 1}\n"
     ]
    }
   ],
   "source": [
    "# Answer 15 -\n",
    "\n",
    "# dict.get()\n",
    "  \n",
    "# initializing string \n",
    "test_str = \"JupyterNotebook\"\n",
    "  \n",
    "# using dict.get() to get count \n",
    "# of each element in string \n",
    "res = {}\n",
    "  \n",
    "for keys in test_str:\n",
    "    res[keys] = res.get(keys, 0) + 1\n",
    "  \n",
    "# printing result \n",
    "print (\"Count of all characters in Google is : \\n\" +  str(res))"
   ]
  },
  {
   "cell_type": "code",
   "execution_count": null,
   "id": "122dc71a",
   "metadata": {},
   "outputs": [],
   "source": []
  }
 ],
 "metadata": {
  "kernelspec": {
   "display_name": "Python 3 (ipykernel)",
   "language": "python",
   "name": "python3"
  },
  "language_info": {
   "codemirror_mode": {
    "name": "ipython",
    "version": 3
   },
   "file_extension": ".py",
   "mimetype": "text/x-python",
   "name": "python",
   "nbconvert_exporter": "python",
   "pygments_lexer": "ipython3",
   "version": "3.9.12"
  }
 },
 "nbformat": 4,
 "nbformat_minor": 5
}
